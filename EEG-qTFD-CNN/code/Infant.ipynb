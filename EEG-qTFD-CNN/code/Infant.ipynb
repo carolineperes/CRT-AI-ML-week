{
  "cells": [
    {
      "cell_type": "code",
      "execution_count": null,
      "metadata": {
        "id": "UABtv_yMNuK_"
      },
      "outputs": [],
      "source": [
        "import numpy as np\n",
        "import pandas as pd\n",
        "import matplotlib.pyplot as plt\n",
        "from scipy.fft import fft, ifft, fftfreq, rfft, rfftfreq"
      ]
    },
    {
      "cell_type": "code",
      "execution_count": null,
      "metadata": {
        "id": "iRY8rwgXPzxi"
      },
      "outputs": [],
      "source": [
        "grades = pd.read_csv('/content/drive/MyDrive/eeg_grades.csv')"
      ]
    },
    {
      "cell_type": "code",
      "execution_count": null,
      "metadata": {
        "id": "VfB69iwRO7dD"
      },
      "outputs": [],
      "source": [
        "#@title importing data\n",
        "# import necessary libraries\n",
        "import pandas as pd\n",
        "import os\n",
        "import glob\n",
        "  \n",
        "  \n",
        "# use glob to get all the csv files \n",
        "# in the folder\n",
        "path = '/content/drive/MyDrive/CSV_format.zip (Unzipped Files)/CSV_format'\n",
        "csv_files = glob.glob(os.path.join(path, \"*.csv.xz\"))# this puts the file names in a list\n",
        "  \n",
        "dfs = []\n",
        "\n",
        "# loop over the list of csv files\n",
        "for f in csv_files:\n",
        "    name = f.split('format/')[1].split('.')[0]#get name\n",
        "    k=0\n",
        "    for id in grades['file_ID']:#for each epoch, find the grade id that matches\n",
        "      if name ==id:\n",
        "        index = k\n",
        "      k+=1\n",
        "# so we will have the index of the grade in grades for the epoch\n",
        "\n",
        "\n",
        "    if ((grades['grade']>0)[index]==True)==True: # ie if its not a NaN\n",
        "      dfs.append([ pd.read_csv(f), grades['grade'][index], grades['file_ID'][index] ]) #append our list with the data, the grade, and the file id"
      ]
    },
    {
      "cell_type": "code",
      "execution_count": null,
      "metadata": {
        "id": "W7Mr4Z5IRHA-"
      },
      "outputs": [],
      "source": [
        "import pandas as pd\n",
        "import os\n",
        "import glob\n",
        "  \n",
        "  \n",
        "# use glob to get all the csv files \n",
        "# in the folder\n",
        "path = '/content/drive/MyDrive/CSV_format.zip (Unzipped Files)/CSV_format'\n",
        "csv_files = glob.glob(os.path.join(path, \"*.csv.xz\"))# this puts the file names in a list#\n"
      ]
    },
    {
      "cell_type": "code",
      "execution_count": null,
      "metadata": {
        "id": "Pk1M8kzWT7YC"
      },
      "outputs": [],
      "source": [
        "training_grades=grades.dropna()"
      ]
    },
    {
      "cell_type": "code",
      "execution_count": null,
      "metadata": {
        "id": "anga8oaUbwNS"
      },
      "outputs": [],
      "source": [
        "train_windows=[]\n",
        "train_labels=[]\n",
        "ds=10 # downsampling rate \n",
        "for k in range(0,200):\n",
        "  t = np.random.randint(1,90) # pick a random epoch\n",
        "  df=pd.read_csv(path +'/'+np.array(training_grades['file_ID'])[t]+'.csv.xz')\n",
        "  ds=len(df)/15000\n",
        "  df = df.iloc[[ds*i for i in range(0,int(np.floor(len(df)/ds)))]] #import and downsample by 60 times\n",
        "\n",
        "  n = np.random.randint(10)\n",
        "\n",
        "  wind = df.iloc[0 +int((len(df)/12)*(1/2)*n):int((len(df)/12))+int((len(df)/12)*(1/2)*n)] # find a random window of length 5 minutes\n",
        "\n",
        "  train_windows.append(np.array(wind))\n",
        "  train_labels.append(np.array(training_grades['grade'])[t])"
      ]
    },
    {
      "cell_type": "code",
      "execution_count": null,
      "metadata": {
        "id": "XwFKQyA-ifP-"
      },
      "outputs": [],
      "source": [
        "train_labels=np.array(train_labels, dtype=int)-1"
      ]
    },
    {
      "cell_type": "code",
      "execution_count": null,
      "metadata": {
        "id": "9E_Sn3f6jXDw"
      },
      "outputs": [],
      "source": [
        "train_windows=np.array(train_windows, dtype=np.float64)"
      ]
    },
    {
      "cell_type": "code",
      "execution_count": null,
      "metadata": {
        "id": "cYRYAY0rjTzT"
      },
      "outputs": [],
      "source": [
        "hot_train_labels=[]\n",
        "for i in range(0,len(train_labels)):\n",
        "  hot_y=[]\n",
        "  for j in range(0,train_labels[i]):\n",
        "    hot_y.append(0)\n",
        "  hot_y.append(1)\n",
        "  for j in range(train_labels[i]+1, 4):\n",
        "    hot_y.append(0)\n",
        "  hot_train_labels.append(hot_y)"
      ]
    },
    {
      "cell_type": "code",
      "execution_count": null,
      "metadata": {
        "id": "6GOZZboa0d_c"
      },
      "outputs": [],
      "source": [
        "for i in range(0,10):\n",
        "  train_windows[:,:,i]=(train_windows[:,:,i]-np.min(train_windows[::,i]))/(np.max(train_windows[::,i])-np.min(train_windows[::,i]))"
      ]
    },
    {
      "cell_type": "code",
      "execution_count": null,
      "metadata": {
        "id": "FuMOBSLaiOb0"
      },
      "outputs": [],
      "source": [
        "model = Sequential([\n",
        "    TCN(input_shape=(1250,9), nb_filters=256, return_sequences=True, dilations =[1,2,4,8,16]),\n",
        "    Flatten(),\n",
        "    Dense(32,activation='relu'),\n",
        "    Dense(4, activation='softmax')\n",
        "])"
      ]
    },
    {
      "cell_type": "code",
      "execution_count": null,
      "metadata": {
        "colab": {
          "base_uri": "https://localhost:8080/"
        },
        "id": "LvFb9ebnn2yc",
        "outputId": "51abf856-2fd0-42eb-d0d5-de70e1895e7c"
      },
      "outputs": [
        {
          "name": "stdout",
          "output_type": "stream",
          "text": [
            "Model: \"sequential\"\n",
            "_________________________________________________________________\n",
            " Layer (type)                Output Shape              Param #   \n",
            "=================================================================\n",
            " tcn (TCN)                   (None, 1250, 256)         1781504   \n",
            "                                                                 \n",
            " flatten (Flatten)           (None, 320000)            0         \n",
            "                                                                 \n",
            " dense (Dense)               (None, 32)                10240032  \n",
            "                                                                 \n",
            " dense_1 (Dense)             (None, 4)                 132       \n",
            "                                                                 \n",
            "=================================================================\n",
            "Total params: 12,021,668\n",
            "Trainable params: 12,021,668\n",
            "Non-trainable params: 0\n",
            "_________________________________________________________________\n"
          ]
        }
      ],
      "source": [
        "model.summary()"
      ]
    },
    {
      "cell_type": "code",
      "execution_count": null,
      "metadata": {
        "id": "RUTCJHTUjeoF"
      },
      "outputs": [],
      "source": [
        "model.compile(optimizer=Adam(learning_rate=0.001), loss = 'categorical_crossentropy', metrics = 'accuracy')"
      ]
    },
    {
      "cell_type": "code",
      "execution_count": null,
      "metadata": {
        "colab": {
          "base_uri": "https://localhost:8080/"
        },
        "id": "s90r7CmjjnCP",
        "outputId": "00134d19-69a2-401f-c4bb-20c50214d2c7"
      },
      "outputs": [
        {
          "name": "stdout",
          "output_type": "stream",
          "text": [
            "Epoch 1/100\n",
            "25/25 [==============================] - 1s 51ms/step - loss: 0.9781 - accuracy: 0.5950\n",
            "Epoch 2/100\n",
            "25/25 [==============================] - 1s 48ms/step - loss: 0.8724 - accuracy: 0.6250\n",
            "Epoch 3/100\n",
            "25/25 [==============================] - 1s 48ms/step - loss: 3.1453 - accuracy: 0.5550\n",
            "Epoch 4/100\n",
            "25/25 [==============================] - 1s 48ms/step - loss: 2.4702 - accuracy: 0.4850\n",
            "Epoch 5/100\n",
            "25/25 [==============================] - 1s 48ms/step - loss: 1.2157 - accuracy: 0.5400\n",
            "Epoch 6/100\n",
            "25/25 [==============================] - 1s 49ms/step - loss: 1.1424 - accuracy: 0.5400\n",
            "Epoch 7/100\n",
            "25/25 [==============================] - 1s 48ms/step - loss: 1.0910 - accuracy: 0.6050\n",
            "Epoch 8/100\n",
            "25/25 [==============================] - 1s 48ms/step - loss: 1.2342 - accuracy: 0.5900\n",
            "Epoch 9/100\n",
            "25/25 [==============================] - 1s 48ms/step - loss: 0.9202 - accuracy: 0.6350\n",
            "Epoch 10/100\n",
            "25/25 [==============================] - 1s 48ms/step - loss: 0.9264 - accuracy: 0.6500\n",
            "Epoch 11/100\n",
            "25/25 [==============================] - 1s 48ms/step - loss: 0.9879 - accuracy: 0.6400\n",
            "Epoch 12/100\n",
            "25/25 [==============================] - 1s 49ms/step - loss: 1.4286 - accuracy: 0.5650\n",
            "Epoch 13/100\n",
            "25/25 [==============================] - 1s 49ms/step - loss: 0.9261 - accuracy: 0.6350\n",
            "Epoch 14/100\n",
            "25/25 [==============================] - 1s 49ms/step - loss: 1.1618 - accuracy: 0.6250\n",
            "Epoch 15/100\n",
            "25/25 [==============================] - 1s 49ms/step - loss: 1.0619 - accuracy: 0.6350\n",
            "Epoch 16/100\n",
            "25/25 [==============================] - 1s 49ms/step - loss: 0.9357 - accuracy: 0.6300\n",
            "Epoch 17/100\n",
            "25/25 [==============================] - 1s 49ms/step - loss: 0.9391 - accuracy: 0.6500\n",
            "Epoch 18/100\n",
            "25/25 [==============================] - 1s 49ms/step - loss: 0.9055 - accuracy: 0.6250\n",
            "Epoch 19/100\n",
            "25/25 [==============================] - 1s 49ms/step - loss: 0.8597 - accuracy: 0.6500\n",
            "Epoch 20/100\n",
            "25/25 [==============================] - 1s 48ms/step - loss: 1.0608 - accuracy: 0.6350\n",
            "Epoch 21/100\n",
            "25/25 [==============================] - 1s 49ms/step - loss: 0.9433 - accuracy: 0.6500\n",
            "Epoch 22/100\n",
            "25/25 [==============================] - 1s 49ms/step - loss: 1.0267 - accuracy: 0.6500\n",
            "Epoch 23/100\n",
            "25/25 [==============================] - 1s 48ms/step - loss: 0.9177 - accuracy: 0.6400\n",
            "Epoch 24/100\n",
            "25/25 [==============================] - 1s 49ms/step - loss: 0.9594 - accuracy: 0.6350\n",
            "Epoch 25/100\n",
            "25/25 [==============================] - 1s 49ms/step - loss: 1.0897 - accuracy: 0.6200\n",
            "Epoch 26/100\n",
            "25/25 [==============================] - 1s 49ms/step - loss: 0.9200 - accuracy: 0.6500\n",
            "Epoch 27/100\n",
            "25/25 [==============================] - 1s 49ms/step - loss: 0.8541 - accuracy: 0.6550\n",
            "Epoch 28/100\n",
            "25/25 [==============================] - 1s 49ms/step - loss: 0.8215 - accuracy: 0.6550\n",
            "Epoch 29/100\n",
            "25/25 [==============================] - 1s 49ms/step - loss: 0.9078 - accuracy: 0.6550\n",
            "Epoch 30/100\n",
            "25/25 [==============================] - 1s 49ms/step - loss: 0.8052 - accuracy: 0.6600\n",
            "Epoch 31/100\n",
            "25/25 [==============================] - 1s 50ms/step - loss: 0.9104 - accuracy: 0.6500\n",
            "Epoch 32/100\n",
            "25/25 [==============================] - 1s 49ms/step - loss: 0.7875 - accuracy: 0.6600\n",
            "Epoch 33/100\n",
            "25/25 [==============================] - 1s 49ms/step - loss: 0.7828 - accuracy: 0.6300\n",
            "Epoch 34/100\n",
            "25/25 [==============================] - 1s 49ms/step - loss: 0.8095 - accuracy: 0.6800\n",
            "Epoch 35/100\n",
            "25/25 [==============================] - 1s 49ms/step - loss: 0.8020 - accuracy: 0.6550\n",
            "Epoch 36/100\n",
            "25/25 [==============================] - 1s 49ms/step - loss: 0.7518 - accuracy: 0.6750\n",
            "Epoch 37/100\n",
            "25/25 [==============================] - 1s 50ms/step - loss: 0.8101 - accuracy: 0.6750\n",
            "Epoch 38/100\n",
            "25/25 [==============================] - 1s 49ms/step - loss: 0.8053 - accuracy: 0.6650\n",
            "Epoch 39/100\n",
            "25/25 [==============================] - 1s 50ms/step - loss: 0.7398 - accuracy: 0.6750\n",
            "Epoch 40/100\n",
            "25/25 [==============================] - 1s 50ms/step - loss: 0.9734 - accuracy: 0.6350\n",
            "Epoch 41/100\n",
            "25/25 [==============================] - 1s 49ms/step - loss: 0.7455 - accuracy: 0.6500\n",
            "Epoch 42/100\n",
            "25/25 [==============================] - 1s 49ms/step - loss: 0.9735 - accuracy: 0.6200\n",
            "Epoch 43/100\n",
            "25/25 [==============================] - 1s 50ms/step - loss: 0.8383 - accuracy: 0.6550\n",
            "Epoch 44/100\n",
            "25/25 [==============================] - 1s 50ms/step - loss: 0.7918 - accuracy: 0.6600\n",
            "Epoch 45/100\n",
            "25/25 [==============================] - 1s 50ms/step - loss: 0.7893 - accuracy: 0.6650\n",
            "Epoch 46/100\n",
            "25/25 [==============================] - 1s 50ms/step - loss: 0.8605 - accuracy: 0.6450\n",
            "Epoch 47/100\n",
            "25/25 [==============================] - 1s 50ms/step - loss: 0.7693 - accuracy: 0.6950\n",
            "Epoch 48/100\n",
            "25/25 [==============================] - 1s 50ms/step - loss: 0.6867 - accuracy: 0.6900\n",
            "Epoch 49/100\n",
            "25/25 [==============================] - 1s 51ms/step - loss: 0.7091 - accuracy: 0.6700\n",
            "Epoch 50/100\n",
            "25/25 [==============================] - 1s 50ms/step - loss: 0.8242 - accuracy: 0.6400\n",
            "Epoch 51/100\n",
            "25/25 [==============================] - 1s 50ms/step - loss: 0.7962 - accuracy: 0.6600\n",
            "Epoch 52/100\n",
            "25/25 [==============================] - 1s 50ms/step - loss: 0.7758 - accuracy: 0.6600\n",
            "Epoch 53/100\n",
            "25/25 [==============================] - 1s 50ms/step - loss: 0.7766 - accuracy: 0.6700\n",
            "Epoch 54/100\n",
            "25/25 [==============================] - 1s 50ms/step - loss: 1.3683 - accuracy: 0.6500\n",
            "Epoch 55/100\n",
            "25/25 [==============================] - 1s 51ms/step - loss: 4.0482 - accuracy: 0.5250\n",
            "Epoch 56/100\n",
            "25/25 [==============================] - 1s 51ms/step - loss: 4.9086 - accuracy: 0.5500\n",
            "Epoch 57/100\n",
            "25/25 [==============================] - 1s 51ms/step - loss: 1.5166 - accuracy: 0.5600\n",
            "Epoch 58/100\n",
            "25/25 [==============================] - 1s 50ms/step - loss: 1.0736 - accuracy: 0.6050\n",
            "Epoch 59/100\n",
            "25/25 [==============================] - 1s 50ms/step - loss: 1.0573 - accuracy: 0.6250\n",
            "Epoch 60/100\n",
            "25/25 [==============================] - 1s 50ms/step - loss: 0.9780 - accuracy: 0.6100\n",
            "Epoch 61/100\n",
            "25/25 [==============================] - 1s 50ms/step - loss: 0.9624 - accuracy: 0.6150\n",
            "Epoch 62/100\n",
            "25/25 [==============================] - 1s 50ms/step - loss: 0.9828 - accuracy: 0.6200\n",
            "Epoch 63/100\n",
            "25/25 [==============================] - 1s 50ms/step - loss: 1.0196 - accuracy: 0.6250\n",
            "Epoch 64/100\n",
            "25/25 [==============================] - 1s 51ms/step - loss: 1.0403 - accuracy: 0.5950\n",
            "Epoch 65/100\n",
            "25/25 [==============================] - 1s 51ms/step - loss: 1.0014 - accuracy: 0.6050\n",
            "Epoch 66/100\n",
            "25/25 [==============================] - 1s 50ms/step - loss: 0.9112 - accuracy: 0.6350\n",
            "Epoch 67/100\n",
            "25/25 [==============================] - 1s 50ms/step - loss: 1.0115 - accuracy: 0.5900\n",
            "Epoch 68/100\n",
            "25/25 [==============================] - 1s 50ms/step - loss: 0.8887 - accuracy: 0.6200\n",
            "Epoch 69/100\n",
            "25/25 [==============================] - 1s 51ms/step - loss: 0.8531 - accuracy: 0.6350\n",
            "Epoch 70/100\n",
            "25/25 [==============================] - 1s 50ms/step - loss: 0.9102 - accuracy: 0.6100\n",
            "Epoch 71/100\n",
            "25/25 [==============================] - 1s 50ms/step - loss: 0.7901 - accuracy: 0.6550\n",
            "Epoch 72/100\n",
            "25/25 [==============================] - 1s 51ms/step - loss: 0.8369 - accuracy: 0.6350\n",
            "Epoch 73/100\n",
            "25/25 [==============================] - 1s 51ms/step - loss: 0.9215 - accuracy: 0.6850\n",
            "Epoch 74/100\n",
            "25/25 [==============================] - 1s 50ms/step - loss: 1.0247 - accuracy: 0.5650\n",
            "Epoch 75/100\n",
            "25/25 [==============================] - 1s 51ms/step - loss: 0.8759 - accuracy: 0.6350\n",
            "Epoch 76/100\n",
            "25/25 [==============================] - 1s 51ms/step - loss: 0.7795 - accuracy: 0.6550\n",
            "Epoch 77/100\n",
            "25/25 [==============================] - 1s 51ms/step - loss: 0.9244 - accuracy: 0.6550\n",
            "Epoch 78/100\n",
            "25/25 [==============================] - 1s 51ms/step - loss: 0.8341 - accuracy: 0.6350\n",
            "Epoch 79/100\n",
            "25/25 [==============================] - 1s 51ms/step - loss: 0.9609 - accuracy: 0.5800\n",
            "Epoch 80/100\n",
            "25/25 [==============================] - 1s 51ms/step - loss: 1.1954 - accuracy: 0.5600\n",
            "Epoch 81/100\n",
            "25/25 [==============================] - 1s 51ms/step - loss: 1.3407 - accuracy: 0.6000\n",
            "Epoch 82/100\n",
            "25/25 [==============================] - 1s 51ms/step - loss: 1.2077 - accuracy: 0.6050\n",
            "Epoch 83/100\n",
            "25/25 [==============================] - 1s 51ms/step - loss: 1.0880 - accuracy: 0.5950\n",
            "Epoch 84/100\n",
            "25/25 [==============================] - 1s 51ms/step - loss: 1.3647 - accuracy: 0.5950\n",
            "Epoch 85/100\n",
            "25/25 [==============================] - 1s 51ms/step - loss: 1.2634 - accuracy: 0.6000\n",
            "Epoch 86/100\n",
            "25/25 [==============================] - 1s 51ms/step - loss: 1.2384 - accuracy: 0.6050\n",
            "Epoch 87/100\n",
            "25/25 [==============================] - 1s 51ms/step - loss: 1.2249 - accuracy: 0.6050\n",
            "Epoch 88/100\n",
            "25/25 [==============================] - 1s 51ms/step - loss: 1.2137 - accuracy: 0.6050\n",
            "Epoch 89/100\n",
            "25/25 [==============================] - 1s 51ms/step - loss: 1.2025 - accuracy: 0.6050\n",
            "Epoch 90/100\n",
            "25/25 [==============================] - 1s 51ms/step - loss: 1.1927 - accuracy: 0.6050\n",
            "Epoch 91/100\n",
            "25/25 [==============================] - 1s 51ms/step - loss: 1.1834 - accuracy: 0.6050\n",
            "Epoch 92/100\n",
            "25/25 [==============================] - 1s 51ms/step - loss: 1.1757 - accuracy: 0.6050\n",
            "Epoch 93/100\n",
            "25/25 [==============================] - 1s 51ms/step - loss: 1.1674 - accuracy: 0.6050\n",
            "Epoch 94/100\n",
            "25/25 [==============================] - 1s 51ms/step - loss: 1.1607 - accuracy: 0.6050\n",
            "Epoch 95/100\n",
            "25/25 [==============================] - 1s 51ms/step - loss: 1.1547 - accuracy: 0.6050\n",
            "Epoch 96/100\n",
            "25/25 [==============================] - 1s 51ms/step - loss: 1.1486 - accuracy: 0.6050\n",
            "Epoch 97/100\n",
            "25/25 [==============================] - 1s 50ms/step - loss: 1.1430 - accuracy: 0.6050\n",
            "Epoch 98/100\n",
            "25/25 [==============================] - 1s 51ms/step - loss: 1.1382 - accuracy: 0.6050\n",
            "Epoch 99/100\n",
            "25/25 [==============================] - 1s 51ms/step - loss: 1.1338 - accuracy: 0.6050\n",
            "Epoch 100/100\n",
            "25/25 [==============================] - 1s 51ms/step - loss: 1.1297 - accuracy: 0.6050\n"
          ]
        },
        {
          "data": {
            "text/plain": [
              "<keras.callbacks.History at 0x7fda4664bc50>"
            ]
          },
          "execution_count": 21,
          "metadata": {},
          "output_type": "execute_result"
        }
      ],
      "source": [
        "model.fit(train_windows[:,:,1:],np.array(hot_train_labels), epochs = 100, batch_size=8)"
      ]
    },
    {
      "cell_type": "code",
      "execution_count": null,
      "metadata": {
        "id": "U3KD-czRld0w"
      },
      "outputs": [],
      "source": [
        "preds=model.predict(train_windows[:,:,1:])"
      ]
    },
    {
      "cell_type": "code",
      "execution_count": null,
      "metadata": {
        "id": "nPW0EocKlrQk"
      },
      "outputs": [],
      "source": [
        "preds_class =[]\n",
        "for i in range(0,len(preds)):\n",
        "  preds_class.append(np.argmax(preds[i]))\n",
        "preds_class=np.array(preds_class)\n",
        "preds_class=preds_class.reshape(len(preds_class))"
      ]
    },
    {
      "cell_type": "code",
      "execution_count": null,
      "metadata": {
        "colab": {
          "base_uri": "https://localhost:8080/"
        },
        "id": "O-cOIae2lsyE",
        "outputId": "1c900078-babf-4fb5-8209-35ec515e64bd"
      },
      "outputs": [
        {
          "data": {
            "text/plain": [
              "array([0, 0, 0, 0, 0, 0, 0, 0, 0, 0, 0, 0, 0, 0, 0, 0, 0, 0, 0, 0, 0, 0,\n",
              "       0, 0, 0, 0, 0, 0, 0, 0, 0, 0, 0, 0, 0, 0, 0, 0, 0, 0, 0, 0, 0, 0,\n",
              "       0, 0, 0, 0, 0, 0, 0, 0, 0, 0, 0, 0, 0, 0, 0, 0, 0, 0, 0, 0, 0, 0,\n",
              "       0, 0, 0, 0, 0, 0, 0, 0, 0, 0, 0, 0, 0, 0, 0, 0, 0, 0, 0, 0, 0, 0,\n",
              "       0, 0, 0, 0, 0, 0, 0, 0, 0, 0, 0, 0, 0, 0, 0, 0, 0, 0, 0, 0, 0, 0,\n",
              "       0, 0, 0, 0, 0, 0, 0, 0, 0, 0, 0, 0, 0, 0, 0, 0, 0, 0, 0, 0, 0, 0,\n",
              "       0, 0, 0, 0, 0, 0, 0, 0, 0, 0, 0, 0, 0, 0, 0, 0, 0, 0, 0, 0, 0, 0,\n",
              "       0, 0, 0, 0, 0, 0, 0, 0, 0, 0, 0, 0, 0, 0, 0, 0, 0, 0, 0, 0, 0, 0,\n",
              "       0, 0, 0, 0, 0, 0, 0, 0, 0, 0, 0, 0, 0, 0, 0, 0, 0, 0, 0, 0, 0, 0,\n",
              "       0, 0])"
            ]
          },
          "execution_count": 24,
          "metadata": {},
          "output_type": "execute_result"
        }
      ],
      "source": [
        "preds_class"
      ]
    },
    {
      "cell_type": "code",
      "execution_count": null,
      "metadata": {
        "colab": {
          "base_uri": "https://localhost:8080/"
        },
        "id": "Aiceufcclvr2",
        "outputId": "5ca59dce-d1be-4749-9d41-022db147911e"
      },
      "outputs": [
        {
          "data": {
            "text/plain": [
              "array([2, 3, 2, 0, 0, 3, 0, 0, 0, 3, 3, 1, 0, 0, 0, 0, 1, 0, 2, 0, 2, 2,\n",
              "       0, 3, 1, 1, 0, 0, 3, 0, 0, 1, 1, 0, 0, 3, 0, 3, 0, 0, 0, 1, 0, 0,\n",
              "       2, 0, 0, 0, 2, 2, 0, 0, 0, 0, 0, 0, 0, 0, 0, 0, 0, 1, 2, 0, 0, 0,\n",
              "       3, 1, 3, 0, 0, 0, 1, 0, 0, 0, 0, 2, 1, 0, 1, 0, 0, 2, 2, 0, 0, 0,\n",
              "       0, 1, 0, 0, 2, 0, 0, 1, 1, 0, 0, 0, 0, 3, 0, 2, 2, 2, 0, 1, 0, 3,\n",
              "       0, 0, 0, 3, 1, 0, 2, 0, 0, 0, 0, 1, 0, 3, 3, 1, 3, 1, 1, 0, 1, 1,\n",
              "       3, 0, 0, 0, 0, 3, 0, 0, 0, 0, 0, 2, 1, 1, 0, 0, 0, 0, 1, 1, 0, 0,\n",
              "       0, 1, 0, 0, 2, 0, 1, 0, 0, 0, 1, 0, 0, 0, 0, 0, 1, 3, 0, 0, 2, 0,\n",
              "       2, 0, 0, 0, 2, 0, 0, 0, 0, 0, 0, 2, 2, 0, 0, 0, 1, 0, 2, 1, 0, 3,\n",
              "       2, 0])"
            ]
          },
          "execution_count": 25,
          "metadata": {},
          "output_type": "execute_result"
        }
      ],
      "source": [
        "train_labels"
      ]
    },
    {
      "cell_type": "code",
      "execution_count": null,
      "metadata": {
        "colab": {
          "base_uri": "https://localhost:8080/"
        },
        "id": "xFHNZE4EnniM",
        "outputId": "c17d5760-30ae-42b5-e4db-edfc55682e70"
      },
      "outputs": [
        {
          "data": {
            "text/plain": [
              "0.605"
            ]
          },
          "execution_count": 26,
          "metadata": {},
          "output_type": "execute_result"
        }
      ],
      "source": [
        "np.sum((preds_class==train_labels)*1)/len(preds)"
      ]
    },
    {
      "cell_type": "markdown",
      "metadata": {
        "id": "4InepOwAW0Zy"
      },
      "source": [
        "#Model Creation"
      ]
    },
    {
      "cell_type": "code",
      "execution_count": null,
      "metadata": {
        "id": "zpcseV-tEW1Z"
      },
      "outputs": [],
      "source": [
        "import tensorflow as tf\n",
        "from tensorflow import keras\n",
        "from tensorflow.keras.models import Sequential\n",
        "from tensorflow.keras.callbacks import EarlyStopping, ModelCheckpoint, ReduceLROnPlateau\n",
        "from tensorflow.keras.layers import Activation, Dense, Flatten, BatchNormalization, Conv2D, MaxPool2D, MaxPooling2D, AveragePooling2D, Dropout,GlobalAveragePooling2D, MaxPooling1D \n",
        "from tensorflow.keras.optimizers import Adam\n",
        "from tensorflow.keras.metrics import categorical_crossentropy"
      ]
    },
    {
      "cell_type": "code",
      "execution_count": null,
      "metadata": {
        "id": "3qAbc9AXrbfO"
      },
      "outputs": [],
      "source": [
        "def create_convnet():\n",
        "    # layers as specified in the paper\n",
        "    input_shape = tf.keras.Input(shape=(256, 112, 1))\n",
        "\n",
        "    tower_1 = Conv2D(10, (8, 1), padding='same', activation='relu')(input_shape)\n",
        "    tower_1 = MaxPooling2D((4, 4), strides=(2, 2), padding='same')(tower_1)\n",
        "\n",
        "    tower_2 = Conv2D(10, (1, 8), padding='same', activation='relu')(input_shape)\n",
        "    tower_2 = MaxPooling2D((4, 4), strides=(2, 2), padding='same')(tower_2)\n",
        "\n",
        "    tower_3 = Conv2D(10, (8, 8), padding='same', activation='relu')(input_shape)\n",
        "    tower_3 = MaxPooling2D((4, 4), strides=(2, 2), padding='same')(tower_3)\n",
        "\n",
        "    merged = keras.layers.concatenate([tower_1, tower_2, tower_3], axis=3)\n",
        "\n",
        "    layer1 = Conv2D(60, (4,4), padding='same', \n",
        "                    activation ='relu',strides =(2,2))(merged)\n",
        "    \n",
        "    layer2a = MaxPooling2D((2,2), padding ='same', strides =(2,2))(layer1)\n",
        "    layer2b = BatchNormalization()(layer2a)\n",
        "    layer3 = Conv2D(60, (2,2), padding='same' )(layer2b)\n",
        "\n",
        "    layer4 = MaxPooling2D( (2,2), padding='same', strides =(2,2))(layer3)\n",
        "    layer5 = GlobalAveragePooling2D()(layer4)\n",
        "\n",
        "    out = Dense(60, activation='relu')(layer5)\n",
        "    out = Dense(4, activation='softmax')(out)\n",
        "\n",
        "    model = tf.keras.Model(input_shape, out)\n",
        "    #plot_model(model, to_file=img_path)\n",
        "    return model"
      ]
    },
    {
      "cell_type": "code",
      "execution_count": null,
      "metadata": {
        "id": "3Fzl9Z99ERce"
      },
      "outputs": [],
      "source": [
        "model =create_convnet()"
      ]
    },
    {
      "cell_type": "code",
      "execution_count": null,
      "metadata": {
        "id": "5Ph0EkB-EaDz"
      },
      "outputs": [],
      "source": [
        "model.summary()"
      ]
    },
    {
      "cell_type": "code",
      "execution_count": null,
      "metadata": {
        "id": "8iruCIh0JGF7"
      },
      "outputs": [],
      "source": [
        "#defining the learning rate step\n",
        "def scheduler(epoch, lr):\n",
        "  n =np.floor((epoch-1)/5)\n",
        "  return lr*(0.8)**n\n",
        "opt = tf.keras.optimizers.SGD(momentum =0.9, nesterov =True)\n",
        "callback_lr = tf.keras.callbacks.LearningRateScheduler(scheduler, verbose=1)"
      ]
    },
    {
      "cell_type": "code",
      "execution_count": null,
      "metadata": {
        "id": "-Um64bFCnze0"
      },
      "outputs": [],
      "source": [
        "model.compile(opt,loss='categorical_crossentropy')"
      ]
    },
    {
      "cell_type": "code",
      "execution_count": null,
      "metadata": {
        "id": "Cd_3rnHwo0nu"
      },
      "outputs": [],
      "source": [
        "#model.fit(x=x, y=y, epochs=30, batch_size=128, callbacks=[callback])"
      ]
    },
    {
      "cell_type": "code",
      "execution_count": null,
      "metadata": {
        "id": "wKbfPY24pMeM"
      },
      "outputs": [],
      "source": [
        "def mpredict(x):\n",
        "  return model.predict(x)"
      ]
    },
    {
      "cell_type": "code",
      "execution_count": null,
      "metadata": {
        "id": "OGSoDmEhRRHE"
      },
      "outputs": [],
      "source": [
        "x = np.random.rand(256,112,6)"
      ]
    },
    {
      "cell_type": "code",
      "execution_count": null,
      "metadata": {
        "id": "Dbuwwt4_TWTL"
      },
      "outputs": [],
      "source": [
        "n_channels = 6"
      ]
    },
    {
      "cell_type": "code",
      "execution_count": null,
      "metadata": {
        "id": "77UKA7B-NFRh"
      },
      "outputs": [],
      "source": [
        "#voting mechanism, takes in one QTFD image across 6 channels and ouputs the guess from each channel\n",
        "def ImageVote(x):\n",
        "  channel_preds = []\n",
        "  for channel_i in range(0, n_channels): # for each channel\n",
        "    channel_preds.append( np.argmax(mpredict(np.array([ x[:,:,channel_i] ]) )))\n",
        "  return channel_preds "
      ]
    },
    {
      "cell_type": "code",
      "execution_count": null,
      "metadata": {
        "colab": {
          "base_uri": "https://localhost:8080/"
        },
        "id": "IYLNkSGelGPb",
        "outputId": "b00d8b70-5ee5-400a-b0c7-acdba1140abb"
      },
      "outputs": [
        {
          "data": {
            "text/plain": [
              "[3, 3, 3, 3, 3, 3]"
            ]
          },
          "execution_count": 47,
          "metadata": {},
          "output_type": "execute_result"
        }
      ],
      "source": [
        "ImageVote(x)\n"
      ]
    },
    {
      "cell_type": "code",
      "execution_count": null,
      "metadata": {
        "id": "t_2qeINFWmMe"
      },
      "outputs": [],
      "source": []
    },
    {
      "cell_type": "markdown",
      "metadata": {
        "id": "RRTuwaCgW4R6"
      },
      "source": [
        "# TCN Model"
      ]
    },
    {
      "cell_type": "code",
      "execution_count": null,
      "metadata": {
        "colab": {
          "base_uri": "https://localhost:8080/"
        },
        "id": "1YS8qn80W6OL",
        "outputId": "e43635bf-2adc-4af2-ea88-e9efb5012cfc"
      },
      "outputs": [
        {
          "name": "stdout",
          "output_type": "stream",
          "text": [
            "\u001b[?25l\r\u001b[K     |▎                               | 10 kB 25.6 MB/s eta 0:00:01\r\u001b[K     |▋                               | 20 kB 6.9 MB/s eta 0:00:01\r\u001b[K     |▉                               | 30 kB 9.9 MB/s eta 0:00:01\r\u001b[K     |█▏                              | 40 kB 4.4 MB/s eta 0:00:01\r\u001b[K     |█▌                              | 51 kB 4.7 MB/s eta 0:00:01\r\u001b[K     |█▊                              | 61 kB 5.6 MB/s eta 0:00:01\r\u001b[K     |██                              | 71 kB 5.4 MB/s eta 0:00:01\r\u001b[K     |██▍                             | 81 kB 5.5 MB/s eta 0:00:01\r\u001b[K     |██▋                             | 92 kB 6.2 MB/s eta 0:00:01\r\u001b[K     |███                             | 102 kB 5.1 MB/s eta 0:00:01\r\u001b[K     |███▎                            | 112 kB 5.1 MB/s eta 0:00:01\r\u001b[K     |███▌                            | 122 kB 5.1 MB/s eta 0:00:01\r\u001b[K     |███▉                            | 133 kB 5.1 MB/s eta 0:00:01\r\u001b[K     |████▏                           | 143 kB 5.1 MB/s eta 0:00:01\r\u001b[K     |████▍                           | 153 kB 5.1 MB/s eta 0:00:01\r\u001b[K     |████▊                           | 163 kB 5.1 MB/s eta 0:00:01\r\u001b[K     |█████                           | 174 kB 5.1 MB/s eta 0:00:01\r\u001b[K     |█████▎                          | 184 kB 5.1 MB/s eta 0:00:01\r\u001b[K     |█████▋                          | 194 kB 5.1 MB/s eta 0:00:01\r\u001b[K     |██████                          | 204 kB 5.1 MB/s eta 0:00:01\r\u001b[K     |██████▏                         | 215 kB 5.1 MB/s eta 0:00:01\r\u001b[K     |██████▌                         | 225 kB 5.1 MB/s eta 0:00:01\r\u001b[K     |██████▉                         | 235 kB 5.1 MB/s eta 0:00:01\r\u001b[K     |███████                         | 245 kB 5.1 MB/s eta 0:00:01\r\u001b[K     |███████▍                        | 256 kB 5.1 MB/s eta 0:00:01\r\u001b[K     |███████▋                        | 266 kB 5.1 MB/s eta 0:00:01\r\u001b[K     |████████                        | 276 kB 5.1 MB/s eta 0:00:01\r\u001b[K     |████████▎                       | 286 kB 5.1 MB/s eta 0:00:01\r\u001b[K     |████████▌                       | 296 kB 5.1 MB/s eta 0:00:01\r\u001b[K     |████████▉                       | 307 kB 5.1 MB/s eta 0:00:01\r\u001b[K     |█████████▏                      | 317 kB 5.1 MB/s eta 0:00:01\r\u001b[K     |█████████▍                      | 327 kB 5.1 MB/s eta 0:00:01\r\u001b[K     |█████████▊                      | 337 kB 5.1 MB/s eta 0:00:01\r\u001b[K     |██████████                      | 348 kB 5.1 MB/s eta 0:00:01\r\u001b[K     |██████████▎                     | 358 kB 5.1 MB/s eta 0:00:01\r\u001b[K     |██████████▋                     | 368 kB 5.1 MB/s eta 0:00:01\r\u001b[K     |███████████                     | 378 kB 5.1 MB/s eta 0:00:01\r\u001b[K     |███████████▏                    | 389 kB 5.1 MB/s eta 0:00:01\r\u001b[K     |███████████▌                    | 399 kB 5.1 MB/s eta 0:00:01\r\u001b[K     |███████████▉                    | 409 kB 5.1 MB/s eta 0:00:01\r\u001b[K     |████████████                    | 419 kB 5.1 MB/s eta 0:00:01\r\u001b[K     |████████████▍                   | 430 kB 5.1 MB/s eta 0:00:01\r\u001b[K     |████████████▊                   | 440 kB 5.1 MB/s eta 0:00:01\r\u001b[K     |█████████████                   | 450 kB 5.1 MB/s eta 0:00:01\r\u001b[K     |█████████████▎                  | 460 kB 5.1 MB/s eta 0:00:01\r\u001b[K     |█████████████▋                  | 471 kB 5.1 MB/s eta 0:00:01\r\u001b[K     |█████████████▉                  | 481 kB 5.1 MB/s eta 0:00:01\r\u001b[K     |██████████████▏                 | 491 kB 5.1 MB/s eta 0:00:01\r\u001b[K     |██████████████▍                 | 501 kB 5.1 MB/s eta 0:00:01\r\u001b[K     |██████████████▊                 | 512 kB 5.1 MB/s eta 0:00:01\r\u001b[K     |███████████████                 | 522 kB 5.1 MB/s eta 0:00:01\r\u001b[K     |███████████████▎                | 532 kB 5.1 MB/s eta 0:00:01\r\u001b[K     |███████████████▋                | 542 kB 5.1 MB/s eta 0:00:01\r\u001b[K     |████████████████                | 552 kB 5.1 MB/s eta 0:00:01\r\u001b[K     |████████████████▏               | 563 kB 5.1 MB/s eta 0:00:01\r\u001b[K     |████████████████▌               | 573 kB 5.1 MB/s eta 0:00:01\r\u001b[K     |████████████████▉               | 583 kB 5.1 MB/s eta 0:00:01\r\u001b[K     |█████████████████               | 593 kB 5.1 MB/s eta 0:00:01\r\u001b[K     |█████████████████▍              | 604 kB 5.1 MB/s eta 0:00:01\r\u001b[K     |█████████████████▊              | 614 kB 5.1 MB/s eta 0:00:01\r\u001b[K     |██████████████████              | 624 kB 5.1 MB/s eta 0:00:01\r\u001b[K     |██████████████████▎             | 634 kB 5.1 MB/s eta 0:00:01\r\u001b[K     |██████████████████▋             | 645 kB 5.1 MB/s eta 0:00:01\r\u001b[K     |██████████████████▉             | 655 kB 5.1 MB/s eta 0:00:01\r\u001b[K     |███████████████████▏            | 665 kB 5.1 MB/s eta 0:00:01\r\u001b[K     |███████████████████▌            | 675 kB 5.1 MB/s eta 0:00:01\r\u001b[K     |███████████████████▊            | 686 kB 5.1 MB/s eta 0:00:01\r\u001b[K     |████████████████████            | 696 kB 5.1 MB/s eta 0:00:01\r\u001b[K     |████████████████████▍           | 706 kB 5.1 MB/s eta 0:00:01\r\u001b[K     |████████████████████▋           | 716 kB 5.1 MB/s eta 0:00:01\r\u001b[K     |█████████████████████           | 727 kB 5.1 MB/s eta 0:00:01\r\u001b[K     |█████████████████████▏          | 737 kB 5.1 MB/s eta 0:00:01\r\u001b[K     |█████████████████████▌          | 747 kB 5.1 MB/s eta 0:00:01\r\u001b[K     |█████████████████████▉          | 757 kB 5.1 MB/s eta 0:00:01\r\u001b[K     |██████████████████████          | 768 kB 5.1 MB/s eta 0:00:01\r\u001b[K     |██████████████████████▍         | 778 kB 5.1 MB/s eta 0:00:01\r\u001b[K     |██████████████████████▊         | 788 kB 5.1 MB/s eta 0:00:01\r\u001b[K     |███████████████████████         | 798 kB 5.1 MB/s eta 0:00:01\r\u001b[K     |███████████████████████▎        | 808 kB 5.1 MB/s eta 0:00:01\r\u001b[K     |███████████████████████▋        | 819 kB 5.1 MB/s eta 0:00:01\r\u001b[K     |███████████████████████▉        | 829 kB 5.1 MB/s eta 0:00:01\r\u001b[K     |████████████████████████▏       | 839 kB 5.1 MB/s eta 0:00:01\r\u001b[K     |████████████████████████▌       | 849 kB 5.1 MB/s eta 0:00:01\r\u001b[K     |████████████████████████▊       | 860 kB 5.1 MB/s eta 0:00:01\r\u001b[K     |█████████████████████████       | 870 kB 5.1 MB/s eta 0:00:01\r\u001b[K     |█████████████████████████▍      | 880 kB 5.1 MB/s eta 0:00:01\r\u001b[K     |█████████████████████████▋      | 890 kB 5.1 MB/s eta 0:00:01\r\u001b[K     |██████████████████████████      | 901 kB 5.1 MB/s eta 0:00:01\r\u001b[K     |██████████████████████████▎     | 911 kB 5.1 MB/s eta 0:00:01\r\u001b[K     |██████████████████████████▌     | 921 kB 5.1 MB/s eta 0:00:01\r\u001b[K     |██████████████████████████▉     | 931 kB 5.1 MB/s eta 0:00:01\r\u001b[K     |███████████████████████████▏    | 942 kB 5.1 MB/s eta 0:00:01\r\u001b[K     |███████████████████████████▍    | 952 kB 5.1 MB/s eta 0:00:01\r\u001b[K     |███████████████████████████▊    | 962 kB 5.1 MB/s eta 0:00:01\r\u001b[K     |████████████████████████████    | 972 kB 5.1 MB/s eta 0:00:01\r\u001b[K     |████████████████████████████▎   | 983 kB 5.1 MB/s eta 0:00:01\r\u001b[K     |████████████████████████████▋   | 993 kB 5.1 MB/s eta 0:00:01\r\u001b[K     |████████████████████████████▉   | 1.0 MB 5.1 MB/s eta 0:00:01\r\u001b[K     |█████████████████████████████▏  | 1.0 MB 5.1 MB/s eta 0:00:01\r\u001b[K     |█████████████████████████████▌  | 1.0 MB 5.1 MB/s eta 0:00:01\r\u001b[K     |█████████████████████████████▊  | 1.0 MB 5.1 MB/s eta 0:00:01\r\u001b[K     |██████████████████████████████  | 1.0 MB 5.1 MB/s eta 0:00:01\r\u001b[K     |██████████████████████████████▍ | 1.1 MB 5.1 MB/s eta 0:00:01\r\u001b[K     |██████████████████████████████▋ | 1.1 MB 5.1 MB/s eta 0:00:01\r\u001b[K     |███████████████████████████████ | 1.1 MB 5.1 MB/s eta 0:00:01\r\u001b[K     |███████████████████████████████▎| 1.1 MB 5.1 MB/s eta 0:00:01\r\u001b[K     |███████████████████████████████▌| 1.1 MB 5.1 MB/s eta 0:00:01\r\u001b[K     |███████████████████████████████▉| 1.1 MB 5.1 MB/s eta 0:00:01\r\u001b[K     |████████████████████████████████| 1.1 MB 5.1 MB/s \n",
            "\u001b[?25h"
          ]
        }
      ],
      "source": [
        "!pip install -q keras-tcn"
      ]
    },
    {
      "cell_type": "code",
      "execution_count": null,
      "metadata": {
        "id": "I6jSxBjSXCIN"
      },
      "outputs": [],
      "source": [
        "from tcn import TCN, tcn_full_summary"
      ]
    },
    {
      "cell_type": "code",
      "execution_count": null,
      "metadata": {
        "id": "rKNRNJ0IXd7P"
      },
      "outputs": [],
      "source": [
        "from keras.datasets import mnist"
      ]
    },
    {
      "cell_type": "code",
      "execution_count": null,
      "metadata": {
        "colab": {
          "base_uri": "https://localhost:8080/"
        },
        "id": "hbQizdeHX96o",
        "outputId": "d81faf55-766e-4af8-8337-1c4517af8767"
      },
      "outputs": [
        {
          "name": "stdout",
          "output_type": "stream",
          "text": [
            "Downloading data from https://storage.googleapis.com/tensorflow/tf-keras-datasets/mnist.npz\n",
            "11493376/11490434 [==============================] - 0s 0us/step\n",
            "11501568/11490434 [==============================] - 0s 0us/step\n"
          ]
        }
      ],
      "source": [
        "(train_x, train_y), (test_x, test_y) = mnist.load_data()"
      ]
    },
    {
      "cell_type": "code",
      "execution_count": null,
      "metadata": {
        "colab": {
          "base_uri": "https://localhost:8080/"
        },
        "id": "bmFCJeKaYFTf",
        "outputId": "494785e9-ffa0-43b4-8bcb-8c7feaf7f4cf"
      },
      "outputs": [
        {
          "data": {
            "text/plain": [
              "(28, 28)"
            ]
          },
          "execution_count": 7,
          "metadata": {},
          "output_type": "execute_result"
        }
      ],
      "source": [
        "train_x[0].shape"
      ]
    },
    {
      "cell_type": "code",
      "execution_count": null,
      "metadata": {
        "id": "oXHBXZkLYLiN"
      },
      "outputs": [],
      "source": [
        "model = Sequential([\n",
        "    TCN(input_shape=(28,28), nb_filters=256, return_sequences=True, dilations =[1,2,4]),\n",
        "    Flatten(),\n",
        "    Dense(10, activation='softmax')\n",
        "])"
      ]
    },
    {
      "cell_type": "code",
      "execution_count": null,
      "metadata": {
        "id": "7QRB3XOxaqdp"
      },
      "outputs": [],
      "source": [
        "all_hot=[]\n",
        "for i in range(0,len(train_y)):\n",
        "  hot_y=[]\n",
        "  for j in range(0,train_y[i]):\n",
        "    hot_y.append(0)\n",
        "  hot_y.append(1)\n",
        "  for j in range(train_y[i]+1, 10):\n",
        "    hot_y.append(0)\n",
        "  all_hot.append(hot_y)"
      ]
    },
    {
      "cell_type": "code",
      "execution_count": null,
      "metadata": {
        "id": "XGHw1F2sdYLW"
      },
      "outputs": [],
      "source": [
        "all_hot_pred=[]\n",
        "for i in range(0,len(test_y)):\n",
        "  hot_y=[]\n",
        "  for j in range(0,test_y[i]):\n",
        "    hot_y.append(0)\n",
        "  hot_y.append(1)\n",
        "  for j in range(test_y[i]+1, 10):\n",
        "    hot_y.append(0)\n",
        "  all_hot_pred.append(hot_y)"
      ]
    },
    {
      "cell_type": "code",
      "execution_count": null,
      "metadata": {
        "id": "UWdSVHe9Zeww"
      },
      "outputs": [],
      "source": [
        "model.compile(optimizer=Adam(learning_rate=0.001), loss = 'categorical_crossentropy')"
      ]
    },
    {
      "cell_type": "code",
      "execution_count": null,
      "metadata": {
        "id": "Uc0xFsuLY-2F"
      },
      "outputs": [],
      "source": [
        "model.fit(train_x,np.array(all_hot), epochs = 10, batch_size=256)"
      ]
    },
    {
      "cell_type": "code",
      "execution_count": null,
      "metadata": {
        "id": "rz7DE_B2be_-"
      },
      "outputs": [],
      "source": [
        "preds=model.predict(test_x)"
      ]
    },
    {
      "cell_type": "code",
      "execution_count": null,
      "metadata": {
        "colab": {
          "base_uri": "https://localhost:8080/"
        },
        "id": "eYft8lJveNTv",
        "outputId": "d4f3d358-d281-46cc-e3cf-5bc99a22b79e"
      },
      "outputs": [
        {
          "data": {
            "text/plain": [
              "(10000, 10)"
            ]
          },
          "execution_count": 39,
          "metadata": {},
          "output_type": "execute_result"
        }
      ],
      "source": [
        "preds.shape"
      ]
    },
    {
      "cell_type": "code",
      "execution_count": null,
      "metadata": {
        "id": "WmNDbvNId32n"
      },
      "outputs": [],
      "source": [
        "preds_class =[]\n",
        "for i in range(0,len(preds)):\n",
        "  preds_class.append(np.argmax(preds[i]))"
      ]
    },
    {
      "cell_type": "code",
      "execution_count": null,
      "metadata": {
        "colab": {
          "base_uri": "https://localhost:8080/"
        },
        "id": "Zjr-3psEd41B",
        "outputId": "034a26c1-4321-4de1-ce2f-8623f2f3b988"
      },
      "outputs": [
        {
          "data": {
            "text/plain": [
              "0.9712"
            ]
          },
          "execution_count": 46,
          "metadata": {},
          "output_type": "execute_result"
        }
      ],
      "source": [
        "np.sum((preds_class==test_y)*1)/len(preds)"
      ]
    },
    {
      "cell_type": "code",
      "execution_count": null,
      "metadata": {
        "id": "IvDEEbqhf9lh"
      },
      "outputs": [],
      "source": []
    }
  ],
  "metadata": {
    "accelerator": "GPU",
    "colab": {
      "collapsed_sections": [],
      "name": "Infant.ipynb",
      "provenance": []
    },
    "gpuClass": "standard",
    "kernelspec": {
      "display_name": "Python 3.8.9 64-bit",
      "language": "python",
      "name": "python3"
    },
    "language_info": {
      "name": "python",
      "version": "3.8.9"
    },
    "vscode": {
      "interpreter": {
        "hash": "31f2aee4e71d21fbe5cf8b01ff0e069b9275f58929596ceb00d14d90e3e16cd6"
      }
    }
  },
  "nbformat": 4,
  "nbformat_minor": 0
}
